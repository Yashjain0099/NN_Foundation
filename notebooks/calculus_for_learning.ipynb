{
 "cells": [
  {
   "cell_type": "code",
   "execution_count": null,
   "id": "f241ece1",
   "metadata": {},
   "outputs": [
    {
     "name": "stdout",
     "output_type": "stream",
     "text": [
      "Analytic derivative at w=2 : 7\n",
      "Numerical derivative at w=2 : 7.0000000000902665\n"
     ]
    }
   ],
   "source": [
    "#Verify with finite difference (numerical derivative)\n",
    "def f(w):\n",
    "    return w**2 + 3*w +1\n",
    "\n",
    "w=2\n",
    "F_prime = 2*w + 3\n",
    "print(\"Analytic derivative at w=2 :\",F_prime)\n",
    "\n",
    "h=1e-5\n",
    "F_prime_numerical = (f(w+h) - f(w-h)) / (2*h)\n",
    "print(\"Numerical derivative at w=2 :\",F_prime_numerical)"
   ]
  },
  {
   "cell_type": "code",
   "execution_count": 8,
   "id": "38170caf",
   "metadata": {},
   "outputs": [
    {
     "name": "stdout",
     "output_type": "stream",
     "text": [
      "estimated derivative using function at w=2: 7.0000000000902665\n"
     ]
    }
   ],
   "source": [
    "def numerical_derivative(f, w, h=1e-5):\n",
    "    return (f(w + h) - f(w - h)) / (2 * h)\n",
    "\n",
    "   \n",
    "    # Estimate derivative of a scalar function using finite difference.\n",
    "    # func: function to differentiate\n",
    "    # x: point at which derivative is estimated\n",
    "    # h: small step size\n",
    "\n",
    "print(\"estimated derivative using function at w=2:\", numerical_derivative(f, 2))"
   ]
  }
 ],
 "metadata": {
  "kernelspec": {
   "display_name": "venv (3.12.2)",
   "language": "python",
   "name": "python3"
  },
  "language_info": {
   "codemirror_mode": {
    "name": "ipython",
    "version": 3
   },
   "file_extension": ".py",
   "mimetype": "text/x-python",
   "name": "python",
   "nbconvert_exporter": "python",
   "pygments_lexer": "ipython3",
   "version": "3.12.2"
  }
 },
 "nbformat": 4,
 "nbformat_minor": 5
}
