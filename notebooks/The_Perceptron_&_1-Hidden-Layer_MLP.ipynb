{
 "cells": [
  {
   "cell_type": "code",
   "execution_count": 29,
   "metadata": {},
   "outputs": [],
   "source": [
    "import numpy as np\n",
    "\n",
    "# XOR dataset\n",
    "X = np.array([[0,0],[0,1],[1,0],[1,1]])\n",
    "y = np.array([[0],[1],[1],[0]])  # XOR labels\n"
   ]
  },
  {
   "cell_type": "code",
   "execution_count": 54,
   "id": "0c7e9d07",
   "metadata": {},
   "outputs": [],
   "source": [
    "def sigmoid(z):\n",
    "    return 1 / (1 + np.exp(-z))\n",
    "\n",
    "def sigmoid_grad(a):\n",
    "    return a * (1 - a)\n",
    "\n",
    "def relu(z):\n",
    "    return np.maximum(0, z)\n",
    "\n",
    "def relu_grad(z):\n",
    "    return (z > 0).astype(float)\n"
   ]
  },
  {
   "cell_type": "code",
   "execution_count": 55,
   "id": "f70ef1c0",
   "metadata": {},
   "outputs": [],
   "source": [
    "def initialize_parameters(input_dim, hidden_dim, output_dim):\n",
    "    np.random.seed(42)\n",
    "    W1 = np.random.randn(input_dim, hidden_dim) * np.sqrt(2./input_dim)\n",
    "    b1 = np.zeros((1, hidden_dim))\n",
    "    W2 = np.random.randn(hidden_dim, output_dim) * np.sqrt(2./hidden_dim)\n",
    "    b2 = np.zeros((1, output_dim))\n",
    "    return W1, b1, W2, b2\n"
   ]
  },
  {
   "cell_type": "code",
   "execution_count": 56,
   "id": "8a9b1ca3",
   "metadata": {},
   "outputs": [],
   "source": [
    "def forward_propagation(X, W1, b1, W2, b2):\n",
    "    Z1 = np.dot(X, W1) + b1\n",
    "    A1 = relu(Z1)\n",
    "    Z2 = np.dot(A1, W2) + b2\n",
    "    A2 = sigmoid(Z2)\n",
    "    cache = (Z1, A1, Z2, A2)\n",
    "    return A2, cache\n"
   ]
  },
  {
   "cell_type": "code",
   "execution_count": 57,
   "id": "cbe7ca49",
   "metadata": {},
   "outputs": [],
   "source": [
    "def compute_loss(y, y_hat):\n",
    "    m = y.shape[0]\n",
    "    return - (1/m) * np.sum(y*np.log(y_hat+1e-9) + (1-y)*np.log(1-y_hat+1e-9))\n"
   ]
  },
  {
   "cell_type": "code",
   "execution_count": 58,
   "id": "8f2cbc01",
   "metadata": {},
   "outputs": [],
   "source": [
    "def backward_propagation(X, y, W1, b1, W2, b2, cache):\n",
    "    Z1, A1, Z2, A2 = cache\n",
    "    m = X.shape[0]\n",
    "    \n",
    "    dZ2 = A2 - y\n",
    "    dW2 = (1/m) * np.dot(A1.T, dZ2)\n",
    "    db2 = (1/m) * np.sum(dZ2, axis=0, keepdims=True)\n",
    "    \n",
    "    dA1 = np.dot(dZ2, W2.T)\n",
    "    dZ1 = dA1 * relu_grad(Z1)\n",
    "    dW1 = (1/m) * np.dot(X.T, dZ1)\n",
    "    db1 = (1/m) * np.sum(dZ1, axis=0, keepdims=True)\n",
    "    \n",
    "    return dW1, db1, dW2, db2\n"
   ]
  },
  {
   "cell_type": "code",
   "execution_count": 59,
   "id": "e235139f",
   "metadata": {},
   "outputs": [],
   "source": [
    "def update_parameters(W1, b1, W2, b2, dW1, db1, dW2, db2, lr=0.1):\n",
    "    W1 -= lr * dW1\n",
    "    b1 -= lr * db1\n",
    "    W2 -= lr * dW2\n",
    "    b2 -= lr * db2\n",
    "    return W1, b1, W2, b2\n"
   ]
  },
  {
   "cell_type": "code",
   "execution_count": 60,
   "id": "61ac2b50",
   "metadata": {},
   "outputs": [],
   "source": [
    "def train(X, y, hidden_dim=4, lr=0.1, epochs=10000):\n",
    "    W1, b1, W2, b2 = initialize_parameters(X.shape[1], hidden_dim, 1)\n",
    "    losses = []\n",
    "    \n",
    "    for i in range(epochs):\n",
    "        # Forward\n",
    "        y_hat, cache = forward_propagation(X, W1, b1, W2, b2)\n",
    "        \n",
    "        # Loss\n",
    "        loss = compute_loss(y, y_hat)\n",
    "        losses.append(loss)\n",
    "        \n",
    "        # Backward\n",
    "        dW1, db1, dW2, db2 = backward_propagation(X, y, W1, b1, W2, b2, cache)\n",
    "        \n",
    "        # Update\n",
    "        W1, b1, W2, b2 = update_parameters(W1, b1, W2, b2, dW1, db1, dW2, db2, lr)\n",
    "        \n",
    "        if i % 1000 == 0:\n",
    "            print(f\"Epoch {i}, Loss: {loss:.4f}\")\n",
    "    \n",
    "    return W1, b1, W2, b2, losses\n",
    "\n"
   ]
  },
  {
   "cell_type": "code",
   "execution_count": 61,
   "id": "d1359d7e",
   "metadata": {},
   "outputs": [
    {
     "name": "stdout",
     "output_type": "stream",
     "text": [
      "Epoch 0, Loss: 0.8147\n",
      "Epoch 1000, Loss: 0.0770\n",
      "Epoch 2000, Loss: 0.0191\n",
      "Epoch 3000, Loss: 0.0101\n",
      "Epoch 4000, Loss: 0.0067\n",
      "Epoch 5000, Loss: 0.0050\n",
      "Epoch 6000, Loss: 0.0039\n",
      "Epoch 7000, Loss: 0.0032\n",
      "Epoch 8000, Loss: 0.0027\n",
      "Epoch 9000, Loss: 0.0024\n",
      "Predictions after training:\n",
      "[[0]\n",
      " [1]\n",
      " [1]\n",
      " [0]]\n",
      "True labels:\n",
      "[[0]\n",
      " [1]\n",
      " [1]\n",
      " [0]]\n"
     ]
    }
   ],
   "source": [
    "if __name__ == \"__main__\":\n",
    "    W1, b1, W2, b2, losses = train(X, y)\n",
    "    \n",
    "    # Test the trained model\n",
    "    y_hat, _ = forward_propagation(X, W1, b1, W2, b2)\n",
    "    predictions = (y_hat > 0.5).astype(int)\n",
    "    print(\"Predictions after training:\")\n",
    "    print(predictions)\n",
    "    print(\"True labels:\")\n",
    "    print(y)\n"
   ]
  }
 ],
 "metadata": {
  "kernelspec": {
   "display_name": "venv (3.12.2)",
   "language": "python",
   "name": "python3"
  },
  "language_info": {
   "codemirror_mode": {
    "name": "ipython",
    "version": 3
   },
   "file_extension": ".py",
   "mimetype": "text/x-python",
   "name": "python",
   "nbconvert_exporter": "python",
   "pygments_lexer": "ipython3",
   "version": "3.12.2"
  }
 },
 "nbformat": 4,
 "nbformat_minor": 5
}
