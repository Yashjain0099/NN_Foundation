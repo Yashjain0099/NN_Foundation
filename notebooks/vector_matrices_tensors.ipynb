{
 "cells": [
  {
   "cell_type": "code",
   "execution_count": null,
   "id": "405f0331",
   "metadata": {},
   "outputs": [
    {
     "name": "stdout",
     "output_type": "stream",
     "text": [
      "Dot product (manual): 32\n",
      "Dot product (NumPy): 32\n"
     ]
    }
   ],
   "source": [
    "# dot product of two vectors\n",
    "import numpy as np\n",
    "a=[1,2,3]\n",
    "b=[4,5,6]\n",
    "\n",
    "dot_manual=0\n",
    "for i in range(len(a)):\n",
    "    dot_manual+=a[i]*b[i]\n",
    "print(\"Dot product (manual):\", dot_manual)\n",
    "\n",
    "dot_numpy=np.dot(a,b)\n",
    "print(\"Dot product (NumPy):\", dot_numpy)\n",
    "    \n",
    "\n"
   ]
  },
  {
   "cell_type": "code",
   "execution_count": 9,
   "id": "a2126ac2",
   "metadata": {},
   "outputs": [
    {
     "name": "stdout",
     "output_type": "stream",
     "text": [
      "Matrix multiplication (manual):\n",
      " [[ 58.  64.]\n",
      " [139. 154.]]\n",
      "Matrix multiplication (NumPy):\n",
      " [[ 58  64]\n",
      " [139 154]]\n"
     ]
    }
   ],
   "source": [
    "#matrix multiplication\n",
    "A=np.array([[1,2,3],\n",
    "            [4,5,6]])\n",
    "B=np.array([[7,8],\n",
    "            [9,10],\n",
    "            [11,12]])\n",
    "\n",
    "result_manual=np.zeros((2,2))\n",
    "\n",
    "for i in range(A.shape[0]):\n",
    "    for j in range(B.shape[1]):\n",
    "        for k in range(A.shape[1]):\n",
    "            result_manual[i,j]+=A[i,k]*B[k,j]\n",
    "print(\"Matrix multiplication (manual):\\n\", result_manual)\n",
    "\n",
    "result_numpy=np.matmul(A,B)\n",
    "print(\"Matrix multiplication (NumPy):\\n\", result_numpy)"
   ]
  },
  {
   "cell_type": "code",
   "execution_count": 10,
   "id": "bc024e40",
   "metadata": {},
   "outputs": [
    {
     "name": "stdout",
     "output_type": "stream",
     "text": [
      "Original Matrix:\n",
      " [[10 20 30]\n",
      " [40 50 60]]\n",
      "Vector:\n",
      " [1 2 3]\n",
      "Matrix and vector addition (broadcasting):\n",
      " [[11 22 33]\n",
      " [41 52 63]]\n"
     ]
    }
   ],
   "source": [
    "M=np.array([[10,20,30],\n",
    "            [40,50,60]])\n",
    "\n",
    "V=np.array([1,2,3])\n",
    "\n",
    "result=M+V\n",
    "\n",
    "print(\"Original Matrix:\\n\", M)\n",
    "print(\"Vector:\\n\", V)\n",
    "print(\"Matrix and vector addition (broadcasting):\\n\", result)"
   ]
  }
 ],
 "metadata": {
  "kernelspec": {
   "display_name": "venv (3.12.2)",
   "language": "python",
   "name": "python3"
  },
  "language_info": {
   "codemirror_mode": {
    "name": "ipython",
    "version": 3
   },
   "file_extension": ".py",
   "mimetype": "text/x-python",
   "name": "python",
   "nbconvert_exporter": "python",
   "pygments_lexer": "ipython3",
   "version": "3.12.2"
  }
 },
 "nbformat": 4,
 "nbformat_minor": 5
}
